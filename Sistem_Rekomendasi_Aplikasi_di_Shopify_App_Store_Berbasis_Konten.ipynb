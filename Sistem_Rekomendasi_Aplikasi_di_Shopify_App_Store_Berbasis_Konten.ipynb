{
  "nbformat": 4,
  "nbformat_minor": 0,
  "metadata": {
    "colab": {
      "provenance": []
    },
    "kernelspec": {
      "name": "python3",
      "display_name": "Python 3"
    },
    "language_info": {
      "name": "python"
    }
  },
  "cells": [
    {
      "cell_type": "markdown",
      "source": [
        "Name: Muhammad Rizky\n",
        "Program: DBS Program"
      ],
      "metadata": {
        "id": "GefxSEb9qEOD"
      }
    },
    {
      "cell_type": "markdown",
      "source": [
        "**Sistem Rekomendasi Aplikasi di Shopify App Store Berbasis Konten**"
      ],
      "metadata": {
        "id": "WVKsfOUZmCm7"
      }
    },
    {
      "cell_type": "markdown",
      "source": [
        "Proyek ini bertujuan untuk membangun sistem rekomendasi aplikasi yang dapat memberikan saran aplikasi serupa kepada pengguna berdasarkan konten teks pada aplikasi di Shopify App Store. Dengan memberikan rekomendasi aplikasi yang sesuai, sistem ini diharapkan dapat meningkatkan kepuasan pengguna dalam memilih aplikasi yang tepat untuk kebutuhan bisnis mereka."
      ],
      "metadata": {
        "id": "xQWKgq_mmCzT"
      }
    },
    {
      "cell_type": "markdown",
      "source": [
        "**Problem Domain**"
      ],
      "metadata": {
        "id": "UHF_tXGWmC3w"
      }
    },
    {
      "cell_type": "markdown",
      "source": [
        "Sistem rekomendasi harus berfokus pada optimalisasi pencarian dan pemilihan aplikasi oleh pengguna. Dengan ribuan aplikasi yang tersedia, pengguna sering kali kesulitan menemukan aplikasi yang sesuai untuk kebutuhan bisnis mereka. Sistem rekomendasi berbasis konten ini bertujuan untuk mempermudah proses tersebut dengan menyarankan aplikasi serupa berdasarkan deskripsi dan fitur utama. Dengan demikian, sistem ini dapat meningkatkan pengalaman pengguna di Shopify App Store dan membantu mereka menemukan aplikasi yang paling relevan secara lebih efisien."
      ],
      "metadata": {
        "id": "uPAZ-gGqmC5p"
      }
    },
    {
      "cell_type": "markdown",
      "source": [
        "**Business Understanding**"
      ],
      "metadata": {
        "id": "k158z2slmC65"
      }
    },
    {
      "cell_type": "markdown",
      "source": [
        "Bisnis dari proyek ini adalah untuk meningkatkan pengalaman pengguna dalam mencari aplikasi di Shopify App Store melalui sistem rekomendasi berbasis konten. Dengan menyarankan aplikasi serupa yang relevan berdasarkan deskripsi dan fitur aplikasi, sistem ini dapat membantu pengguna menemukan aplikasi yang sesuai dengan kebutuhan mereka dengan lebih cepat dan mudah. Dampak positif dari sistem rekomendasi ini meliputi peningkatan kepuasan pengguna, waktu pencarian yang lebih efisien, dan kemungkinan konversi yang lebih tinggi bagi aplikasi yang disarankan.\n"
      ],
      "metadata": {
        "id": "ZfeXRvcrB6p0"
      }
    },
    {
      "cell_type": "markdown",
      "source": [
        "**Import Package Libarray**"
      ],
      "metadata": {
        "id": "27M-F7ZHmC9p"
      }
    },
    {
      "cell_type": "code",
      "source": [
        "!pip install kaggle\n",
        "#Libarary untuk upload File\n",
        "from google.colab import files\n",
        "import pandas as pd\n",
        "import matplotlib.pyplot as plt\n",
        "import seaborn as sns\n",
        "# Train-test split for collaborative filtering\n",
        "from sklearn.model_selection import train_test_split\n",
        "# Handle text-based features for Content-Based Filtering\n",
        "from sklearn.feature_extraction.text import TfidfVectorizer\n",
        "from sklearn.metrics.pairwise import cosine_similarity\n",
        "from sklearn.decomposition import TruncatedSVD\n",
        "from sklearn.metrics import mean_squared_error"
      ],
      "metadata": {
        "colab": {
          "base_uri": "https://localhost:8080/"
        },
        "id": "9jcnFoMamHiM",
        "outputId": "15c838f7-84ba-4a00-f622-f03cedaca39b"
      },
      "execution_count": 2,
      "outputs": [
        {
          "output_type": "stream",
          "name": "stdout",
          "text": [
            "Requirement already satisfied: kaggle in /usr/local/lib/python3.10/dist-packages (1.6.17)\n",
            "Requirement already satisfied: six>=1.10 in /usr/local/lib/python3.10/dist-packages (from kaggle) (1.16.0)\n",
            "Requirement already satisfied: certifi>=2023.7.22 in /usr/local/lib/python3.10/dist-packages (from kaggle) (2024.8.30)\n",
            "Requirement already satisfied: python-dateutil in /usr/local/lib/python3.10/dist-packages (from kaggle) (2.8.2)\n",
            "Requirement already satisfied: requests in /usr/local/lib/python3.10/dist-packages (from kaggle) (2.32.3)\n",
            "Requirement already satisfied: tqdm in /usr/local/lib/python3.10/dist-packages (from kaggle) (4.66.5)\n",
            "Requirement already satisfied: python-slugify in /usr/local/lib/python3.10/dist-packages (from kaggle) (8.0.4)\n",
            "Requirement already satisfied: urllib3 in /usr/local/lib/python3.10/dist-packages (from kaggle) (2.2.3)\n",
            "Requirement already satisfied: bleach in /usr/local/lib/python3.10/dist-packages (from kaggle) (6.1.0)\n",
            "Requirement already satisfied: webencodings in /usr/local/lib/python3.10/dist-packages (from bleach->kaggle) (0.5.1)\n",
            "Requirement already satisfied: text-unidecode>=1.3 in /usr/local/lib/python3.10/dist-packages (from python-slugify->kaggle) (1.3)\n",
            "Requirement already satisfied: charset-normalizer<4,>=2 in /usr/local/lib/python3.10/dist-packages (from requests->kaggle) (3.4.0)\n",
            "Requirement already satisfied: idna<4,>=2.5 in /usr/local/lib/python3.10/dist-packages (from requests->kaggle) (3.10)\n"
          ]
        }
      ]
    },
    {
      "cell_type": "code",
      "source": [
        "files.upload()"
      ],
      "metadata": {
        "id": "mWuwqn0UiiRy",
        "colab": {
          "base_uri": "https://localhost:8080/",
          "height": 92
        },
        "outputId": "1a86c196-4002-42f4-f8d8-e257ae75f4d3"
      },
      "execution_count": 3,
      "outputs": [
        {
          "output_type": "display_data",
          "data": {
            "text/plain": [
              "<IPython.core.display.HTML object>"
            ],
            "text/html": [
              "\n",
              "     <input type=\"file\" id=\"files-0297131d-e5c7-4278-b104-a483d8144c07\" name=\"files[]\" multiple disabled\n",
              "        style=\"border:none\" />\n",
              "     <output id=\"result-0297131d-e5c7-4278-b104-a483d8144c07\">\n",
              "      Upload widget is only available when the cell has been executed in the\n",
              "      current browser session. Please rerun this cell to enable.\n",
              "      </output>\n",
              "      <script>// Copyright 2017 Google LLC\n",
              "//\n",
              "// Licensed under the Apache License, Version 2.0 (the \"License\");\n",
              "// you may not use this file except in compliance with the License.\n",
              "// You may obtain a copy of the License at\n",
              "//\n",
              "//      http://www.apache.org/licenses/LICENSE-2.0\n",
              "//\n",
              "// Unless required by applicable law or agreed to in writing, software\n",
              "// distributed under the License is distributed on an \"AS IS\" BASIS,\n",
              "// WITHOUT WARRANTIES OR CONDITIONS OF ANY KIND, either express or implied.\n",
              "// See the License for the specific language governing permissions and\n",
              "// limitations under the License.\n",
              "\n",
              "/**\n",
              " * @fileoverview Helpers for google.colab Python module.\n",
              " */\n",
              "(function(scope) {\n",
              "function span(text, styleAttributes = {}) {\n",
              "  const element = document.createElement('span');\n",
              "  element.textContent = text;\n",
              "  for (const key of Object.keys(styleAttributes)) {\n",
              "    element.style[key] = styleAttributes[key];\n",
              "  }\n",
              "  return element;\n",
              "}\n",
              "\n",
              "// Max number of bytes which will be uploaded at a time.\n",
              "const MAX_PAYLOAD_SIZE = 100 * 1024;\n",
              "\n",
              "function _uploadFiles(inputId, outputId) {\n",
              "  const steps = uploadFilesStep(inputId, outputId);\n",
              "  const outputElement = document.getElementById(outputId);\n",
              "  // Cache steps on the outputElement to make it available for the next call\n",
              "  // to uploadFilesContinue from Python.\n",
              "  outputElement.steps = steps;\n",
              "\n",
              "  return _uploadFilesContinue(outputId);\n",
              "}\n",
              "\n",
              "// This is roughly an async generator (not supported in the browser yet),\n",
              "// where there are multiple asynchronous steps and the Python side is going\n",
              "// to poll for completion of each step.\n",
              "// This uses a Promise to block the python side on completion of each step,\n",
              "// then passes the result of the previous step as the input to the next step.\n",
              "function _uploadFilesContinue(outputId) {\n",
              "  const outputElement = document.getElementById(outputId);\n",
              "  const steps = outputElement.steps;\n",
              "\n",
              "  const next = steps.next(outputElement.lastPromiseValue);\n",
              "  return Promise.resolve(next.value.promise).then((value) => {\n",
              "    // Cache the last promise value to make it available to the next\n",
              "    // step of the generator.\n",
              "    outputElement.lastPromiseValue = value;\n",
              "    return next.value.response;\n",
              "  });\n",
              "}\n",
              "\n",
              "/**\n",
              " * Generator function which is called between each async step of the upload\n",
              " * process.\n",
              " * @param {string} inputId Element ID of the input file picker element.\n",
              " * @param {string} outputId Element ID of the output display.\n",
              " * @return {!Iterable<!Object>} Iterable of next steps.\n",
              " */\n",
              "function* uploadFilesStep(inputId, outputId) {\n",
              "  const inputElement = document.getElementById(inputId);\n",
              "  inputElement.disabled = false;\n",
              "\n",
              "  const outputElement = document.getElementById(outputId);\n",
              "  outputElement.innerHTML = '';\n",
              "\n",
              "  const pickedPromise = new Promise((resolve) => {\n",
              "    inputElement.addEventListener('change', (e) => {\n",
              "      resolve(e.target.files);\n",
              "    });\n",
              "  });\n",
              "\n",
              "  const cancel = document.createElement('button');\n",
              "  inputElement.parentElement.appendChild(cancel);\n",
              "  cancel.textContent = 'Cancel upload';\n",
              "  const cancelPromise = new Promise((resolve) => {\n",
              "    cancel.onclick = () => {\n",
              "      resolve(null);\n",
              "    };\n",
              "  });\n",
              "\n",
              "  // Wait for the user to pick the files.\n",
              "  const files = yield {\n",
              "    promise: Promise.race([pickedPromise, cancelPromise]),\n",
              "    response: {\n",
              "      action: 'starting',\n",
              "    }\n",
              "  };\n",
              "\n",
              "  cancel.remove();\n",
              "\n",
              "  // Disable the input element since further picks are not allowed.\n",
              "  inputElement.disabled = true;\n",
              "\n",
              "  if (!files) {\n",
              "    return {\n",
              "      response: {\n",
              "        action: 'complete',\n",
              "      }\n",
              "    };\n",
              "  }\n",
              "\n",
              "  for (const file of files) {\n",
              "    const li = document.createElement('li');\n",
              "    li.append(span(file.name, {fontWeight: 'bold'}));\n",
              "    li.append(span(\n",
              "        `(${file.type || 'n/a'}) - ${file.size} bytes, ` +\n",
              "        `last modified: ${\n",
              "            file.lastModifiedDate ? file.lastModifiedDate.toLocaleDateString() :\n",
              "                                    'n/a'} - `));\n",
              "    const percent = span('0% done');\n",
              "    li.appendChild(percent);\n",
              "\n",
              "    outputElement.appendChild(li);\n",
              "\n",
              "    const fileDataPromise = new Promise((resolve) => {\n",
              "      const reader = new FileReader();\n",
              "      reader.onload = (e) => {\n",
              "        resolve(e.target.result);\n",
              "      };\n",
              "      reader.readAsArrayBuffer(file);\n",
              "    });\n",
              "    // Wait for the data to be ready.\n",
              "    let fileData = yield {\n",
              "      promise: fileDataPromise,\n",
              "      response: {\n",
              "        action: 'continue',\n",
              "      }\n",
              "    };\n",
              "\n",
              "    // Use a chunked sending to avoid message size limits. See b/62115660.\n",
              "    let position = 0;\n",
              "    do {\n",
              "      const length = Math.min(fileData.byteLength - position, MAX_PAYLOAD_SIZE);\n",
              "      const chunk = new Uint8Array(fileData, position, length);\n",
              "      position += length;\n",
              "\n",
              "      const base64 = btoa(String.fromCharCode.apply(null, chunk));\n",
              "      yield {\n",
              "        response: {\n",
              "          action: 'append',\n",
              "          file: file.name,\n",
              "          data: base64,\n",
              "        },\n",
              "      };\n",
              "\n",
              "      let percentDone = fileData.byteLength === 0 ?\n",
              "          100 :\n",
              "          Math.round((position / fileData.byteLength) * 100);\n",
              "      percent.textContent = `${percentDone}% done`;\n",
              "\n",
              "    } while (position < fileData.byteLength);\n",
              "  }\n",
              "\n",
              "  // All done.\n",
              "  yield {\n",
              "    response: {\n",
              "      action: 'complete',\n",
              "    }\n",
              "  };\n",
              "}\n",
              "\n",
              "scope.google = scope.google || {};\n",
              "scope.google.colab = scope.google.colab || {};\n",
              "scope.google.colab._files = {\n",
              "  _uploadFiles,\n",
              "  _uploadFilesContinue,\n",
              "};\n",
              "})(self);\n",
              "</script> "
            ]
          },
          "metadata": {}
        },
        {
          "output_type": "stream",
          "name": "stdout",
          "text": [
            "Saving kaggle.json to kaggle.json\n"
          ]
        },
        {
          "output_type": "execute_result",
          "data": {
            "text/plain": [
              "{'kaggle.json': b'{\"username\":\"muhammadrizky102356\",\"key\":\"85af409ebff1292e0f00a1b8d1eebe89\"}'}"
            ]
          },
          "metadata": {},
          "execution_count": 3
        }
      ]
    },
    {
      "cell_type": "code",
      "source": [
        "!mkdir -p ~/.kaggle\n",
        "!cp kaggle.json ~/.kaggle/\n",
        "!chmod 600 ~/.kaggle/kaggle.json"
      ],
      "metadata": {
        "id": "-y9akkEZvY3Z"
      },
      "execution_count": 4,
      "outputs": []
    },
    {
      "cell_type": "code",
      "source": [
        "!kaggle datasets download -d r usernam3/shopify-app-store\n",
        "!unzip shopify-app-store.zip"
      ],
      "metadata": {
        "colab": {
          "base_uri": "https://localhost:8080/"
        },
        "id": "9PCiMd07Vx5_",
        "outputId": "8a0a1cbc-9132-4896-a140-02e2398af331"
      },
      "execution_count": 5,
      "outputs": [
        {
          "output_type": "stream",
          "name": "stdout",
          "text": [
            "Dataset URL: https://www.kaggle.com/datasets/usernam3/shopify-app-store\n",
            "License(s): other\n",
            "Downloading shopify-app-store.zip to /content\n",
            " 91% 65.0M/71.2M [00:00<00:00, 83.9MB/s]\n",
            "100% 71.2M/71.2M [00:00<00:00, 87.1MB/s]\n",
            "Archive:  shopify-app-store.zip\n",
            "  inflating: apps.csv                \n",
            "  inflating: apps_categories.csv     \n",
            "  inflating: categories.csv          \n",
            "  inflating: key_benefits.csv        \n",
            "  inflating: pricing_plan_features.csv  \n",
            "  inflating: pricing_plans.csv       \n",
            "  inflating: reviews.csv             \n"
          ]
        }
      ]
    },
    {
      "cell_type": "markdown",
      "source": [
        "**Data Understanding**"
      ],
      "metadata": {
        "id": "wpbP9rscmRpC"
      }
    },
    {
      "cell_type": "markdown",
      "source": [
        "Tahapan ini untuk memahami struktur data yang ada di dataset"
      ],
      "metadata": {
        "id": "CMyR5O46yRa1"
      }
    },
    {
      "cell_type": "code",
      "source": [
        "import pandas as pd\n",
        "\n",
        "# Membaca dataset aplikasi\n",
        "df_apps = pd.read_csv(\"apps.csv\")\n",
        "\n",
        "# Melihat beberapa baris dari dataset\n",
        "df_apps.head()\n"
      ],
      "metadata": {
        "id": "JPgKXd6NiiVO",
        "colab": {
          "base_uri": "https://localhost:8080/",
          "height": 591
        },
        "outputId": "a8bcd498-c852-42eb-9a53-55794ef7b0be"
      },
      "execution_count": 6,
      "outputs": [
        {
          "output_type": "execute_result",
          "data": {
            "text/plain": [
              "                                     id  \\\n",
              "0  afbe525f-d512-4951-8edc-582df3ce6aa7   \n",
              "1  9594ccfa-9ef9-42a2-823c-e270489bcb88   \n",
              "2  cd229797-5798-4465-a313-2e27ce44e01d   \n",
              "3  6e07c6c8-8617-43d2-9a88-bafcbfe82f7f   \n",
              "4  8ff58c99-e85c-44cd-ad13-7df88fbab704   \n",
              "\n",
              "                                           url  \\\n",
              "0  https://apps.shopify.com/jewelexchange_feed   \n",
              "1           https://apps.shopify.com/cocon-app   \n",
              "2            https://apps.shopify.com/quantify   \n",
              "3        https://apps.shopify.com/orderlyprint   \n",
              "4             https://apps.shopify.com/smsbump   \n",
              "\n",
              "                            title           developer  \\\n",
              "0  JewelExchange Product Feed API     Avalon Solution   \n",
              "1           COCON ‑ Emails, Popup            COCON SA   \n",
              "2                        Quantify  Akuna Technologies   \n",
              "3                    OrderlyPrint    FORSBERG+two ApS   \n",
              "4  SMSBump SMS Marketing by Yotpo         SMSBump Ltd   \n",
              "\n",
              "                                      developer_link  \\\n",
              "0  https://apps.shopify.com/partners/avalon-solution   \n",
              "1         https://apps.shopify.com/partners/cocon-sa   \n",
              "2      https://apps.shopify.com/partners/shopifytech   \n",
              "3     https://apps.shopify.com/partners/forsberg-two   \n",
              "4       https://apps.shopify.com/partners/isenselabs   \n",
              "\n",
              "                                                icon  rating  reviews_count  \\\n",
              "0  https://cdn.shopify.com/app-store/listing_imag...     0.0              0   \n",
              "1  https://cdn.shopify.com/app-store/listing_imag...     5.0              3   \n",
              "2  https://cdn.shopify.com/app-store/listing_imag...     3.3             14   \n",
              "3  https://cdn.shopify.com/app-store/listing_imag...     4.9            124   \n",
              "4  https://cdn.shopify.com/app-store/listing_imag...     4.8           2246   \n",
              "\n",
              "                                     description_raw  \\\n",
              "0  <div class=\"block vc-app-listing-about-section...   \n",
              "1  <div class=\"block vc-app-listing-about-section...   \n",
              "2  <div class=\"block vc-app-listing-about-section...   \n",
              "3  <div class=\"block vc-app-listing-about-section...   \n",
              "4  <div class=\"block vc-app-listing-about-section...   \n",
              "\n",
              "                                         description  \\\n",
              "0  JewelExchange is a cloud-based platform for Je...   \n",
              "1  What is COCON? \\n\\n Set up in less than 15 min...   \n",
              "2  Setting minimum and maximum quantities in your...   \n",
              "3  OrderlyPrint helps with your pick lists, packi...   \n",
              "4  What is Yotpo SMSBump? \\n Yotpo SMSBump is a p...   \n",
              "\n",
              "                                             tagline  \\\n",
              "0  Connecting Retailers & Suppliers (Jewelry, Wat...   \n",
              "1      Email Marketing, Popup, Automation, Analytics   \n",
              "2           Setting Min-Max Quantities now made Easy   \n",
              "3  Pick, pack, invoice, fulfill & export your ord...   \n",
              "4  Text Marketing, Abandoned Cart Recovery, SMS A...   \n",
              "\n",
              "                                        pricing_hint     lastmod  \n",
              "0     Free to install. Additional charges may apply.  2022-05-09  \n",
              "1  Free plan available. 14-day free trial. Additi...  2022-06-04  \n",
              "2                     $3.99/month. 7-day free trial.  2022-05-19  \n",
              "3                 From $29/month. 15-day free trial.  2022-05-19  \n",
              "4     Free to install. Additional charges may apply.  2022-05-13  "
            ],
            "text/html": [
              "\n",
              "  <div id=\"df-30168851-fdc7-4d69-a6d1-543d235b9324\" class=\"colab-df-container\">\n",
              "    <div>\n",
              "<style scoped>\n",
              "    .dataframe tbody tr th:only-of-type {\n",
              "        vertical-align: middle;\n",
              "    }\n",
              "\n",
              "    .dataframe tbody tr th {\n",
              "        vertical-align: top;\n",
              "    }\n",
              "\n",
              "    .dataframe thead th {\n",
              "        text-align: right;\n",
              "    }\n",
              "</style>\n",
              "<table border=\"1\" class=\"dataframe\">\n",
              "  <thead>\n",
              "    <tr style=\"text-align: right;\">\n",
              "      <th></th>\n",
              "      <th>id</th>\n",
              "      <th>url</th>\n",
              "      <th>title</th>\n",
              "      <th>developer</th>\n",
              "      <th>developer_link</th>\n",
              "      <th>icon</th>\n",
              "      <th>rating</th>\n",
              "      <th>reviews_count</th>\n",
              "      <th>description_raw</th>\n",
              "      <th>description</th>\n",
              "      <th>tagline</th>\n",
              "      <th>pricing_hint</th>\n",
              "      <th>lastmod</th>\n",
              "    </tr>\n",
              "  </thead>\n",
              "  <tbody>\n",
              "    <tr>\n",
              "      <th>0</th>\n",
              "      <td>afbe525f-d512-4951-8edc-582df3ce6aa7</td>\n",
              "      <td>https://apps.shopify.com/jewelexchange_feed</td>\n",
              "      <td>JewelExchange Product Feed API</td>\n",
              "      <td>Avalon Solution</td>\n",
              "      <td>https://apps.shopify.com/partners/avalon-solution</td>\n",
              "      <td>https://cdn.shopify.com/app-store/listing_imag...</td>\n",
              "      <td>0.0</td>\n",
              "      <td>0</td>\n",
              "      <td>&lt;div class=\"block vc-app-listing-about-section...</td>\n",
              "      <td>JewelExchange is a cloud-based platform for Je...</td>\n",
              "      <td>Connecting Retailers &amp; Suppliers (Jewelry, Wat...</td>\n",
              "      <td>Free to install. Additional charges may apply.</td>\n",
              "      <td>2022-05-09</td>\n",
              "    </tr>\n",
              "    <tr>\n",
              "      <th>1</th>\n",
              "      <td>9594ccfa-9ef9-42a2-823c-e270489bcb88</td>\n",
              "      <td>https://apps.shopify.com/cocon-app</td>\n",
              "      <td>COCON ‑ Emails, Popup</td>\n",
              "      <td>COCON SA</td>\n",
              "      <td>https://apps.shopify.com/partners/cocon-sa</td>\n",
              "      <td>https://cdn.shopify.com/app-store/listing_imag...</td>\n",
              "      <td>5.0</td>\n",
              "      <td>3</td>\n",
              "      <td>&lt;div class=\"block vc-app-listing-about-section...</td>\n",
              "      <td>What is COCON? \\n\\n Set up in less than 15 min...</td>\n",
              "      <td>Email Marketing, Popup, Automation, Analytics</td>\n",
              "      <td>Free plan available. 14-day free trial. Additi...</td>\n",
              "      <td>2022-06-04</td>\n",
              "    </tr>\n",
              "    <tr>\n",
              "      <th>2</th>\n",
              "      <td>cd229797-5798-4465-a313-2e27ce44e01d</td>\n",
              "      <td>https://apps.shopify.com/quantify</td>\n",
              "      <td>Quantify</td>\n",
              "      <td>Akuna Technologies</td>\n",
              "      <td>https://apps.shopify.com/partners/shopifytech</td>\n",
              "      <td>https://cdn.shopify.com/app-store/listing_imag...</td>\n",
              "      <td>3.3</td>\n",
              "      <td>14</td>\n",
              "      <td>&lt;div class=\"block vc-app-listing-about-section...</td>\n",
              "      <td>Setting minimum and maximum quantities in your...</td>\n",
              "      <td>Setting Min-Max Quantities now made Easy</td>\n",
              "      <td>$3.99/month. 7-day free trial.</td>\n",
              "      <td>2022-05-19</td>\n",
              "    </tr>\n",
              "    <tr>\n",
              "      <th>3</th>\n",
              "      <td>6e07c6c8-8617-43d2-9a88-bafcbfe82f7f</td>\n",
              "      <td>https://apps.shopify.com/orderlyprint</td>\n",
              "      <td>OrderlyPrint</td>\n",
              "      <td>FORSBERG+two ApS</td>\n",
              "      <td>https://apps.shopify.com/partners/forsberg-two</td>\n",
              "      <td>https://cdn.shopify.com/app-store/listing_imag...</td>\n",
              "      <td>4.9</td>\n",
              "      <td>124</td>\n",
              "      <td>&lt;div class=\"block vc-app-listing-about-section...</td>\n",
              "      <td>OrderlyPrint helps with your pick lists, packi...</td>\n",
              "      <td>Pick, pack, invoice, fulfill &amp; export your ord...</td>\n",
              "      <td>From $29/month. 15-day free trial.</td>\n",
              "      <td>2022-05-19</td>\n",
              "    </tr>\n",
              "    <tr>\n",
              "      <th>4</th>\n",
              "      <td>8ff58c99-e85c-44cd-ad13-7df88fbab704</td>\n",
              "      <td>https://apps.shopify.com/smsbump</td>\n",
              "      <td>SMSBump SMS Marketing by Yotpo</td>\n",
              "      <td>SMSBump Ltd</td>\n",
              "      <td>https://apps.shopify.com/partners/isenselabs</td>\n",
              "      <td>https://cdn.shopify.com/app-store/listing_imag...</td>\n",
              "      <td>4.8</td>\n",
              "      <td>2246</td>\n",
              "      <td>&lt;div class=\"block vc-app-listing-about-section...</td>\n",
              "      <td>What is Yotpo SMSBump? \\n Yotpo SMSBump is a p...</td>\n",
              "      <td>Text Marketing, Abandoned Cart Recovery, SMS A...</td>\n",
              "      <td>Free to install. Additional charges may apply.</td>\n",
              "      <td>2022-05-13</td>\n",
              "    </tr>\n",
              "  </tbody>\n",
              "</table>\n",
              "</div>\n",
              "    <div class=\"colab-df-buttons\">\n",
              "\n",
              "  <div class=\"colab-df-container\">\n",
              "    <button class=\"colab-df-convert\" onclick=\"convertToInteractive('df-30168851-fdc7-4d69-a6d1-543d235b9324')\"\n",
              "            title=\"Convert this dataframe to an interactive table.\"\n",
              "            style=\"display:none;\">\n",
              "\n",
              "  <svg xmlns=\"http://www.w3.org/2000/svg\" height=\"24px\" viewBox=\"0 -960 960 960\">\n",
              "    <path d=\"M120-120v-720h720v720H120Zm60-500h600v-160H180v160Zm220 220h160v-160H400v160Zm0 220h160v-160H400v160ZM180-400h160v-160H180v160Zm440 0h160v-160H620v160ZM180-180h160v-160H180v160Zm440 0h160v-160H620v160Z\"/>\n",
              "  </svg>\n",
              "    </button>\n",
              "\n",
              "  <style>\n",
              "    .colab-df-container {\n",
              "      display:flex;\n",
              "      gap: 12px;\n",
              "    }\n",
              "\n",
              "    .colab-df-convert {\n",
              "      background-color: #E8F0FE;\n",
              "      border: none;\n",
              "      border-radius: 50%;\n",
              "      cursor: pointer;\n",
              "      display: none;\n",
              "      fill: #1967D2;\n",
              "      height: 32px;\n",
              "      padding: 0 0 0 0;\n",
              "      width: 32px;\n",
              "    }\n",
              "\n",
              "    .colab-df-convert:hover {\n",
              "      background-color: #E2EBFA;\n",
              "      box-shadow: 0px 1px 2px rgba(60, 64, 67, 0.3), 0px 1px 3px 1px rgba(60, 64, 67, 0.15);\n",
              "      fill: #174EA6;\n",
              "    }\n",
              "\n",
              "    .colab-df-buttons div {\n",
              "      margin-bottom: 4px;\n",
              "    }\n",
              "\n",
              "    [theme=dark] .colab-df-convert {\n",
              "      background-color: #3B4455;\n",
              "      fill: #D2E3FC;\n",
              "    }\n",
              "\n",
              "    [theme=dark] .colab-df-convert:hover {\n",
              "      background-color: #434B5C;\n",
              "      box-shadow: 0px 1px 3px 1px rgba(0, 0, 0, 0.15);\n",
              "      filter: drop-shadow(0px 1px 2px rgba(0, 0, 0, 0.3));\n",
              "      fill: #FFFFFF;\n",
              "    }\n",
              "  </style>\n",
              "\n",
              "    <script>\n",
              "      const buttonEl =\n",
              "        document.querySelector('#df-30168851-fdc7-4d69-a6d1-543d235b9324 button.colab-df-convert');\n",
              "      buttonEl.style.display =\n",
              "        google.colab.kernel.accessAllowed ? 'block' : 'none';\n",
              "\n",
              "      async function convertToInteractive(key) {\n",
              "        const element = document.querySelector('#df-30168851-fdc7-4d69-a6d1-543d235b9324');\n",
              "        const dataTable =\n",
              "          await google.colab.kernel.invokeFunction('convertToInteractive',\n",
              "                                                    [key], {});\n",
              "        if (!dataTable) return;\n",
              "\n",
              "        const docLinkHtml = 'Like what you see? Visit the ' +\n",
              "          '<a target=\"_blank\" href=https://colab.research.google.com/notebooks/data_table.ipynb>data table notebook</a>'\n",
              "          + ' to learn more about interactive tables.';\n",
              "        element.innerHTML = '';\n",
              "        dataTable['output_type'] = 'display_data';\n",
              "        await google.colab.output.renderOutput(dataTable, element);\n",
              "        const docLink = document.createElement('div');\n",
              "        docLink.innerHTML = docLinkHtml;\n",
              "        element.appendChild(docLink);\n",
              "      }\n",
              "    </script>\n",
              "  </div>\n",
              "\n",
              "\n",
              "<div id=\"df-bf887dca-4697-4496-8e93-f24342973cf5\">\n",
              "  <button class=\"colab-df-quickchart\" onclick=\"quickchart('df-bf887dca-4697-4496-8e93-f24342973cf5')\"\n",
              "            title=\"Suggest charts\"\n",
              "            style=\"display:none;\">\n",
              "\n",
              "<svg xmlns=\"http://www.w3.org/2000/svg\" height=\"24px\"viewBox=\"0 0 24 24\"\n",
              "     width=\"24px\">\n",
              "    <g>\n",
              "        <path d=\"M19 3H5c-1.1 0-2 .9-2 2v14c0 1.1.9 2 2 2h14c1.1 0 2-.9 2-2V5c0-1.1-.9-2-2-2zM9 17H7v-7h2v7zm4 0h-2V7h2v10zm4 0h-2v-4h2v4z\"/>\n",
              "    </g>\n",
              "</svg>\n",
              "  </button>\n",
              "\n",
              "<style>\n",
              "  .colab-df-quickchart {\n",
              "      --bg-color: #E8F0FE;\n",
              "      --fill-color: #1967D2;\n",
              "      --hover-bg-color: #E2EBFA;\n",
              "      --hover-fill-color: #174EA6;\n",
              "      --disabled-fill-color: #AAA;\n",
              "      --disabled-bg-color: #DDD;\n",
              "  }\n",
              "\n",
              "  [theme=dark] .colab-df-quickchart {\n",
              "      --bg-color: #3B4455;\n",
              "      --fill-color: #D2E3FC;\n",
              "      --hover-bg-color: #434B5C;\n",
              "      --hover-fill-color: #FFFFFF;\n",
              "      --disabled-bg-color: #3B4455;\n",
              "      --disabled-fill-color: #666;\n",
              "  }\n",
              "\n",
              "  .colab-df-quickchart {\n",
              "    background-color: var(--bg-color);\n",
              "    border: none;\n",
              "    border-radius: 50%;\n",
              "    cursor: pointer;\n",
              "    display: none;\n",
              "    fill: var(--fill-color);\n",
              "    height: 32px;\n",
              "    padding: 0;\n",
              "    width: 32px;\n",
              "  }\n",
              "\n",
              "  .colab-df-quickchart:hover {\n",
              "    background-color: var(--hover-bg-color);\n",
              "    box-shadow: 0 1px 2px rgba(60, 64, 67, 0.3), 0 1px 3px 1px rgba(60, 64, 67, 0.15);\n",
              "    fill: var(--button-hover-fill-color);\n",
              "  }\n",
              "\n",
              "  .colab-df-quickchart-complete:disabled,\n",
              "  .colab-df-quickchart-complete:disabled:hover {\n",
              "    background-color: var(--disabled-bg-color);\n",
              "    fill: var(--disabled-fill-color);\n",
              "    box-shadow: none;\n",
              "  }\n",
              "\n",
              "  .colab-df-spinner {\n",
              "    border: 2px solid var(--fill-color);\n",
              "    border-color: transparent;\n",
              "    border-bottom-color: var(--fill-color);\n",
              "    animation:\n",
              "      spin 1s steps(1) infinite;\n",
              "  }\n",
              "\n",
              "  @keyframes spin {\n",
              "    0% {\n",
              "      border-color: transparent;\n",
              "      border-bottom-color: var(--fill-color);\n",
              "      border-left-color: var(--fill-color);\n",
              "    }\n",
              "    20% {\n",
              "      border-color: transparent;\n",
              "      border-left-color: var(--fill-color);\n",
              "      border-top-color: var(--fill-color);\n",
              "    }\n",
              "    30% {\n",
              "      border-color: transparent;\n",
              "      border-left-color: var(--fill-color);\n",
              "      border-top-color: var(--fill-color);\n",
              "      border-right-color: var(--fill-color);\n",
              "    }\n",
              "    40% {\n",
              "      border-color: transparent;\n",
              "      border-right-color: var(--fill-color);\n",
              "      border-top-color: var(--fill-color);\n",
              "    }\n",
              "    60% {\n",
              "      border-color: transparent;\n",
              "      border-right-color: var(--fill-color);\n",
              "    }\n",
              "    80% {\n",
              "      border-color: transparent;\n",
              "      border-right-color: var(--fill-color);\n",
              "      border-bottom-color: var(--fill-color);\n",
              "    }\n",
              "    90% {\n",
              "      border-color: transparent;\n",
              "      border-bottom-color: var(--fill-color);\n",
              "    }\n",
              "  }\n",
              "</style>\n",
              "\n",
              "  <script>\n",
              "    async function quickchart(key) {\n",
              "      const quickchartButtonEl =\n",
              "        document.querySelector('#' + key + ' button');\n",
              "      quickchartButtonEl.disabled = true;  // To prevent multiple clicks.\n",
              "      quickchartButtonEl.classList.add('colab-df-spinner');\n",
              "      try {\n",
              "        const charts = await google.colab.kernel.invokeFunction(\n",
              "            'suggestCharts', [key], {});\n",
              "      } catch (error) {\n",
              "        console.error('Error during call to suggestCharts:', error);\n",
              "      }\n",
              "      quickchartButtonEl.classList.remove('colab-df-spinner');\n",
              "      quickchartButtonEl.classList.add('colab-df-quickchart-complete');\n",
              "    }\n",
              "    (() => {\n",
              "      let quickchartButtonEl =\n",
              "        document.querySelector('#df-bf887dca-4697-4496-8e93-f24342973cf5 button');\n",
              "      quickchartButtonEl.style.display =\n",
              "        google.colab.kernel.accessAllowed ? 'block' : 'none';\n",
              "    })();\n",
              "  </script>\n",
              "</div>\n",
              "\n",
              "    </div>\n",
              "  </div>\n"
            ],
            "application/vnd.google.colaboratory.intrinsic+json": {
              "type": "dataframe",
              "variable_name": "df_apps",
              "summary": "{\n  \"name\": \"df_apps\",\n  \"rows\": 7341,\n  \"fields\": [\n    {\n      \"column\": \"id\",\n      \"properties\": {\n        \"dtype\": \"string\",\n        \"num_unique_values\": 7341,\n        \"samples\": [\n          \"749add35-8522-4647-82b0-058dfb8d247d\",\n          \"d0a099f1-f5fd-41ce-9a83-efd4d2227d73\",\n          \"4f6e74b7-314e-4d09-848d-588bf57b8ad1\"\n        ],\n        \"semantic_type\": \"\",\n        \"description\": \"\"\n      }\n    },\n    {\n      \"column\": \"url\",\n      \"properties\": {\n        \"dtype\": \"string\",\n        \"num_unique_values\": 7341,\n        \"samples\": [\n          \"https://apps.shopify.com/similarity-1\",\n          \"https://apps.shopify.com/mass\",\n          \"https://apps.shopify.com/rapiboy\"\n        ],\n        \"semantic_type\": \"\",\n        \"description\": \"\"\n      }\n    },\n    {\n      \"column\": \"title\",\n      \"properties\": {\n        \"dtype\": \"string\",\n        \"num_unique_values\": 7287,\n        \"samples\": [\n          \"Store as IDP\\u2011SSO Login to Apps\",\n          \"AiGen Product Descriptions\",\n          \"NextSmartShip\"\n        ],\n        \"semantic_type\": \"\",\n        \"description\": \"\"\n      }\n    },\n    {\n      \"column\": \"developer\",\n      \"properties\": {\n        \"dtype\": \"string\",\n        \"num_unique_values\": 4656,\n        \"samples\": [\n          \"Sell The Trend\",\n          \"Fulfillrite\",\n          \"Effective Apps\"\n        ],\n        \"semantic_type\": \"\",\n        \"description\": \"\"\n      }\n    },\n    {\n      \"column\": \"developer_link\",\n      \"properties\": {\n        \"dtype\": \"string\",\n        \"num_unique_values\": 4671,\n        \"samples\": [\n          \"https://apps.shopify.com/partners/entrego-fulfillment-solutions-inc\",\n          \"https://apps.shopify.com/partners/398\",\n          \"https://apps.shopify.com/partners/shipify-teste\"\n        ],\n        \"semantic_type\": \"\",\n        \"description\": \"\"\n      }\n    },\n    {\n      \"column\": \"icon\",\n      \"properties\": {\n        \"dtype\": \"string\",\n        \"num_unique_values\": 7341,\n        \"samples\": [\n          \"https://cdn.shopify.com/app-store/listing_images/7c99cc5ce9544520c62937e5dd3d2631/icon/CLCBwIu6_fcCEAE=.png?height=60&width=60\",\n          \"https://cdn.shopify.com/app-store/listing_images/5d0aecf80890befe22cfed5dfd5af045/icon/CLLL_d_0lu8CEAE=.png?height=60&width=60\",\n          \"https://cdn.shopify.com/app-store/listing_images/ce2cfae6297f10b64a6d4815d75e3f2c/icon/CMTz_ODt2u8CEAE=.jpeg?height=60&quality=90&width=60\"\n        ],\n        \"semantic_type\": \"\",\n        \"description\": \"\"\n      }\n    },\n    {\n      \"column\": \"rating\",\n      \"properties\": {\n        \"dtype\": \"number\",\n        \"std\": 2.1886095472437423,\n        \"min\": 0.0,\n        \"max\": 5.0,\n        \"num_unique_values\": 42,\n        \"samples\": [\n          1.2,\n          3.7,\n          3.1\n        ],\n        \"semantic_type\": \"\",\n        \"description\": \"\"\n      }\n    },\n    {\n      \"column\": \"reviews_count\",\n      \"properties\": {\n        \"dtype\": \"number\",\n        \"std\": 521,\n        \"min\": 0,\n        \"max\": 24780,\n        \"num_unique_values\": 611,\n        \"samples\": [\n          2323,\n          364,\n          51\n        ],\n        \"semantic_type\": \"\",\n        \"description\": \"\"\n      }\n    },\n    {\n      \"column\": \"description_raw\",\n      \"properties\": {\n        \"dtype\": \"string\",\n        \"num_unique_values\": 7339,\n        \"samples\": [\n          \"<div class=\\\"block vc-app-listing-about-section__description\\\">\\n              <p>Overview: </p>\\n\\n<p>The YSY team developed this APP to help merchants connect the Shopify store with Amazon accounts via the Inventory templates, and bulk edit the online products via Excel file in a high effective way.</p>\\n\\n<p>Why install YSY Bulk Editor?</p>\\n\\n<p>\\u00b7 Migrate to your Amazon store from Shopify.</p>\\n\\n<p>\\u00b7 Upload to any marketplace with a different language.</p>\\n\\n<p>\\u00b7 Feed data to your store from any of your data sources, fit it into our Excel template.</p>\\n\\n<p>\\u00b7  Partial update your existing store data by individual fields, without having to re-import everything.</p>\\n\\n<p>\\u00b7 Copy your data to your other stores with just one Excel file.</p>\\n\\n<p>\\u00b7 Export your data to other marketplaces like Amazon, Shoppee.</p>\\n\\n<p>\\u00b7 Back up your whole shop at any time.</p>\\n\\n<p>Waste no more time, Excel Editor YSY Bulk Imp/exp is an APP specifically designed to help you do this task repetitively so you can save hours of work with just a few clicks of a button. Upload, edit as many products as you want in bulk.</p>\\n\\n<p>(1). Migrate your Amazon products to the Shopify store. \\nNo need to share your Amazon MWS account details and doubting deemed as a connected account.</p>\\n\\n<p>(2).  Manage all your online products on one page.</p>\\n\\n<p>\\u00b7 Pull products from your online store and they will be synced automatically after you edit them.</p>\\n\\n<p>\\u00b7 Update product price.</p>\\n\\n<p>\\u00b7 Update inventory.</p>\\n\\n<p>\\u00b7  Multiple images per variant SKU.</p>\\n\\n<p>\\u00b7  Update Product variants by SKU.</p>\\n\\n<p>\\u00b7  Reorder product variants.</p>\\n\\n<p>\\u00b7  Edit products from the admin page.</p>\\n\\n<p>\\u00b7  Manage parent/child variation themes</p>\\n\\n<p>\\u00b7 Whatever fields you see in your Shopify Admin, you can import them and bulk-update any of those fields individually or all together.</p>\\n\\n<p>(3). Convert to any Amazon inventory template format. </p>\\n\\n<p>Our APP supports selecting the products to be exported to match the Amazon Inventory template (download from your Amazon seller center). You can upload to your different Amazon stores based on some necessary changes.</p>\\n\\n<p>(4).  Sync with Shopify store. </p>\\n\\n<p>Easily and quickly migrate products to your online products and sync with the online store. \\nThis APP has the power to pull products from the online store and help you to bulk edit in APP via one excel file, such as edit variant price, title, quantity, add multiple Images per variant to make your online store more functional, and so on. But for the exit products, have to change the status of the products twice to active the pull webhook.</p>\\n\\n<p>Ease of use:</p>\\n\\n<p>\\u00b7 One-click to add this APP.\\n\\u00b7 Anyone who can use Excel is enough to use this APP.\\nWith a strong ability, the APP is crafted to be easy to use even for non-technical users. Install the APP effortlessly with one click. No messy integration code is required. Easily uninstall with one click at any time you want.</p>\\n\\n<p>\\u00b7 24H support.</p>\\n\\n</div>\",\n          \"<div class=\\\"block vc-app-listing-about-section__description\\\">\\n              <h4>PrintOps specializes in on-demand poster printing and fulfillment.</h4>\\n<p>We are a small startup, intent on providing artists with high quality and low-cost alternative to expensive print-on-demand services. Because we focus primarily on posters and frames, we have the edge on most other companies.  </p>\\n<h4>What we offer:</h4>\\n<ul>\\n<li>So Many Sizes: We offer more poster and frame sizes than any of our competitors, allowing you to be creative in the products you want to produce.</li>\\n<li>No Setup Costs: PrintOps allows you to create a new business or startup with no inventory and no setup capital or monthly charges.</li>\\n<li>Printed In-house: Unlike many of our competitors, we don't outsource our printing. This gives us many advantages to providing a quality product and fast delivery.</li>\\n<li>Industry Leading Production Time: Most orders will ship within 24 hours of receipt. </li>\\n<li>No Minimums: Ship 1 order a month, or 1000 - you will never be penalized for placing a small amount of orders.</li>\\n<li>Flexibility in Ordering: Want to place an order outside of your Shopify store?  No problem - just use our shopping cart or even upload a CSV file for bulk orders.</li>\\n<li>Live Support: We believe our customers are our number one asset. Our support team is available by email or phone 5 days a week.</li>\\n</ul>\\n<h4>How does it work?</h4>\\n<p>Here's how PrintOps print on demand service works:</p>\\n\\n<ol>\\n<li>Create your Shopify and PrintOps accounts.</li>\\n<li>Click the Add App button at the top of the page to install the app on your store.</li>\\n<li>Sync and connect your products to PrintOps.</li>\\n<li>Setup your billing and shipping preferences on PrintOps and you are ready to go.</li>\\n</ol>\\n<h4>About PrintOps.com</h4>\\n<p>We noticed that some of our customers were using our website for drop-shipping, manually placing each order.  We thought we could make it easier, so we built PrintOps. Now, using store integrations makes this process a breeze, so you can focus on creating rather than boring stuff like placing orders.</p>\\n\\n</div>\",\n          \"<div class=\\\"block vc-app-listing-about-section__description\\\">\\n              <h4>Washing clothes can be a tricky task!</h4>\\n<p>There are many parameters described by symbols on clothing tags, sheets, towels, t-shirts and other textile items. Laundry Symbols allows you to add the page that includes Handy Hints that describe how users need to treat items they purchased.</p>\\n<h4>Why product care symbols are important?</h4>\\n<p>The care label describes the allowable treatment of the garment without damaging the fabrics or textiles. </p>\\n<h4>How are these symbols used?</h4>\\n<p>These laundering symbols are used to advise owners on the appropriate garment care for their clothes by instructing on:</p>\\n\\n<ul>\\n<li>washing temperatures;</li>\\n<li>dry cleaning;</li>\\n<li>ironing;</li>\\n<li>tumble drying;</li>\\n<li>bleaching;</li>\\n<li>other notes related to product clearance.</li>\\n</ul>\\n<h4>How this app can help me?</h4>\\n<p>Our app creates a page that helps to decode apparel care symbols that can be referenced on product pages and make it easier to customers to treat those items. This will make sure that textile will come out of the wash cycle without being damaged and attire will look as expected for long period of time.</p>\\n\\n</div>\"\n        ],\n        \"semantic_type\": \"\",\n        \"description\": \"\"\n      }\n    },\n    {\n      \"column\": \"description\",\n      \"properties\": {\n        \"dtype\": \"string\",\n        \"num_unique_values\": 7339,\n        \"samples\": [\n          \"Overview:  \\n\\n The YSY team developed this APP to help merchants connect the Shopify store with Amazon accounts via the Inventory templates, and bulk edit the online products via Excel file in a high effective way. \\n\\n Why install YSY Bulk Editor? \\n\\n \\u00b7 Migrate to your Amazon store from Shopify. \\n\\n \\u00b7 Upload to any marketplace with a different language. \\n\\n \\u00b7 Feed data to your store from any of your data sources, fit it into our Excel template. \\n\\n \\u00b7  Partial update your existing store data by individual fields, without having to re-import everything. \\n\\n \\u00b7 Copy your data to your other stores with just one Excel file. \\n\\n \\u00b7 Export your data to other marketplaces like Amazon, Shoppee. \\n\\n \\u00b7 Back up your whole shop at any time. \\n\\n Waste no more time, Excel Editor YSY Bulk Imp/exp is an APP specifically designed to help you do this task repetitively so you can save hours of work with just a few clicks of a button. Upload, edit as many products as you want in bulk. \\n\\n (1). Migrate your Amazon products to the Shopify store. \\nNo need to share your Amazon MWS account details and doubting deemed as a connected account. \\n\\n (2).  Manage all your online products on one page. \\n\\n \\u00b7 Pull products from your online store and they will be synced automatically after you edit them. \\n\\n \\u00b7 Update product price. \\n\\n \\u00b7 Update inventory. \\n\\n \\u00b7  Multiple images per variant SKU. \\n\\n \\u00b7  Update Product variants by SKU. \\n\\n \\u00b7  Reorder product variants. \\n\\n \\u00b7  Edit products from the admin page. \\n\\n \\u00b7  Manage parent/child variation themes \\n\\n \\u00b7 Whatever fields you see in your Shopify Admin, you can import them and bulk-update any of those fields individually or all together. \\n\\n (3). Convert to any Amazon inventory template format.  \\n\\n Our APP supports selecting the products to be exported to match the Amazon Inventory template (download from your Amazon seller center). You can upload to your different Amazon stores based on some necessary changes. \\n\\n (4).  Sync with Shopify store.  \\n\\n Easily and quickly migrate products to your online products and sync with the online store. \\nThis APP has the power to pull products from the online store and help you to bulk edit in APP via one excel file, such as edit variant price, title, quantity, add multiple Images per variant to make your online store more functional, and so on. But for the exit products, have to change the status of the products twice to active the pull webhook. \\n\\n Ease of use: \\n\\n \\u00b7 One-click to add this APP.\\n\\u00b7 Anyone who can use Excel is enough to use this APP.\\nWith a strong ability, the APP is crafted to be easy to use even for non-technical users. Install the APP effortlessly with one click. No messy integration code is required. Easily uninstall with one click at any time you want. \\n\\n \\u00b7 24H support. \\n\\n \\n               Overview:  \\n\\n The YSY team developed this APP to help merchants connect the Shopify store with Amazon accounts via the Inventory templates, and bulk edit the online products via Excel file in a high effective way. \\n\\n Why install YSY Bulk Editor? \\n\\n \\u00b7 Migrate to your Amazon store from Shopify. \\n\\n \\u00b7 Upload to any marketplace with a different language. \\n\\n \\u00b7 Feed data to your store from any of your data sources, fit it into our Excel template. \\n\\n \\u00b7  Partial update your existing store data by individual fields, without having to re-import everything. \\n\\n \\u00b7 Copy your data to your other stores with just one Excel file. \\n\\n \\u00b7 Export your data to other marketplaces like Amazon, Shoppee. \\n\\n \\u00b7 Back up your whole shop at any time. \\n\\n Waste no more time, Excel Editor YSY Bulk Imp/exp is an APP specifically designed to help you do this task repetitively so you can save hours of work with just a few clicks of a button. Upload, edit as many products as you want in bulk. \\n\\n (1). Migrate your Amazon products to the Shopify store. \\nNo need to share your Amazon MWS account details and doubting deemed as a connected account. \\n\\n (2).  Manage all your online products on one page. \\n\\n \\u00b7 Pull products from your online store and they will be synced automatically after you edit them. \\n\\n \\u00b7 Update product price. \\n\\n \\u00b7 Update inventory. \\n\\n \\u00b7  Multiple images per variant SKU. \\n\\n \\u00b7  Update Product variants by SKU. \\n\\n \\u00b7  Reorder product variants. \\n\\n \\u00b7  Edit products from the admin page. \\n\\n \\u00b7  Manage parent/child variation themes \\n\\n \\u00b7 Whatever fields you see in your Shopify Admin, you can import them and bulk-update any of those fields individually or all together. \\n\\n (3). Convert to any Amazon inventory template format.  \\n\\n Our APP supports selecting the products to be exported to match the Amazon Inventory template (download from your Amazon seller center). You can upload to your different Amazon stores based on some necessary changes. \\n\\n (4).  Sync with Shopify store.  \\n\\n Easily and quickly migrate products to your online products and sync with the online store. \\nThis APP has the power to pull products from the online store and help you to bulk edit in APP via one excel file, such as edit variant price, title, quantity, add multiple Images per variant to make your online store more functional, and so on. But for the exit products, have to change the status of the products twice to active the pull webhook. \\n\\n Ease of use: \\n\\n \\u00b7 One-click to add this APP.\\n\\u00b7 Anyone who can use Excel is enough to use this APP.\\nWith a strong ability, the APP is crafted to be easy to use even for non-technical users. Install the APP effortlessly with one click. No messy integration code is required. Easily uninstall with one click at any time you want. \\n\\n \\u00b7 24H support.\",\n          \"PrintOps specializes in on-demand poster printing and fulfillment. \\n We are a small startup, intent on providing artists with high quality and low-cost alternative to expensive print-on-demand services. Because we focus primarily on posters and frames, we have the edge on most other companies.   \\n What we offer: \\n \\n So Many Sizes: We offer more poster and frame sizes than any of our competitors, allowing you to be creative in the products you want to produce. \\n No Setup Costs: PrintOps allows you to create a new business or startup with no inventory and no setup capital or monthly charges. \\n Printed In-house: Unlike many of our competitors, we don't outsource our printing. This gives us many advantages to providing a quality product and fast delivery. \\n Industry Leading Production Time: Most orders will ship within 24 hours of receipt.  \\n No Minimums: Ship 1 order a month, or 1000 - you will never be penalized for placing a small amount of orders. \\n Flexibility in Ordering: Want to place an order outside of your Shopify store?  No problem - just use our shopping cart or even upload a CSV file for bulk orders. \\n Live Support: We believe our customers are our number one asset. Our support team is available by email or phone 5 days a week. \\n \\n How does it work? \\n Here's how PrintOps print on demand service works: \\n\\n \\n Create your Shopify and PrintOps accounts. \\n Click the Add App button at the top of the page to install the app on your store. \\n Sync and connect your products to PrintOps. \\n Setup your billing and shipping preferences on PrintOps and you are ready to go. \\n \\n About PrintOps.com \\n We noticed that some of our customers were using our website for drop-shipping, manually placing each order.  We thought we could make it easier, so we built PrintOps. Now, using store integrations makes this process a breeze, so you can focus on creating rather than boring stuff like placing orders. \\n\\n \\n               PrintOps specializes in on-demand poster printing and fulfillment. \\n We are a small startup, intent on providing artists with high quality and low-cost alternative to expensive print-on-demand services. Because we focus primarily on posters and frames, we have the edge on most other companies.   \\n What we offer: \\n \\n So Many Sizes: We offer more poster and frame sizes than any of our competitors, allowing you to be creative in the products you want to produce. \\n No Setup Costs: PrintOps allows you to create a new business or startup with no inventory and no setup capital or monthly charges. \\n Printed In-house: Unlike many of our competitors, we don't outsource our printing. This gives us many advantages to providing a quality product and fast delivery. \\n Industry Leading Production Time: Most orders will ship within 24 hours of receipt.  \\n No Minimums: Ship 1 order a month, or 1000 - you will never be penalized for placing a small amount of orders. \\n Flexibility in Ordering: Want to place an order outside of your Shopify store?  No problem - just use our shopping cart or even upload a CSV file for bulk orders. \\n Live Support: We believe our customers are our number one asset. Our support team is available by email or phone 5 days a week. \\n \\n How does it work? \\n Here's how PrintOps print on demand service works: \\n\\n \\n Create your Shopify and PrintOps accounts. \\n Click the Add App button at the top of the page to install the app on your store. \\n Sync and connect your products to PrintOps. \\n Setup your billing and shipping preferences on PrintOps and you are ready to go. \\n \\n About PrintOps.com \\n We noticed that some of our customers were using our website for drop-shipping, manually placing each order.  We thought we could make it easier, so we built PrintOps. Now, using store integrations makes this process a breeze, so you can focus on creating rather than boring stuff like placing orders.\",\n          \"Washing clothes can be a tricky task! \\n There are many parameters described by symbols on clothing tags, sheets, towels, t-shirts and other textile items. Laundry Symbols allows you to add the page that includes Handy Hints that describe how users need to treat items they purchased. \\n Why product care symbols are important? \\n The care label describes the allowable treatment of the garment without damaging the fabrics or textiles.  \\n How are these symbols used? \\n These laundering symbols are used to advise owners on the appropriate garment care for their clothes by instructing on: \\n\\n \\n washing temperatures; \\n dry cleaning; \\n ironing; \\n tumble drying; \\n bleaching; \\n other notes related to product clearance. \\n \\n How this app can help me? \\n Our app creates a page that helps to decode apparel care symbols that can be referenced on product pages and make it easier to customers to treat those items. This will make sure that textile will come out of the wash cycle without being damaged and attire will look as expected for long period of time. \\n\\n \\n               Washing clothes can be a tricky task! \\n There are many parameters described by symbols on clothing tags, sheets, towels, t-shirts and other textile items. Laundry Symbols allows you to add the page that includes Handy Hints that describe how users need to treat items they purchased. \\n Why product care symbols are important? \\n The care label describes the allowable treatment of the garment without damaging the fabrics or textiles.  \\n How are these symbols used? \\n These laundering symbols are used to advise owners on the appropriate garment care for their clothes by instructing on: \\n\\n \\n washing temperatures; \\n dry cleaning; \\n ironing; \\n tumble drying; \\n bleaching; \\n other notes related to product clearance. \\n \\n How this app can help me? \\n Our app creates a page that helps to decode apparel care symbols that can be referenced on product pages and make it easier to customers to treat those items. This will make sure that textile will come out of the wash cycle without being damaged and attire will look as expected for long period of time.\"\n        ],\n        \"semantic_type\": \"\",\n        \"description\": \"\"\n      }\n    },\n    {\n      \"column\": \"tagline\",\n      \"properties\": {\n        \"dtype\": \"string\",\n        \"num_unique_values\": 7295,\n        \"samples\": [\n          \"Advance FAQ Customized User Experience- 1 Click Configuration\",\n          \"Social endorsement platform increasing your sales and reach\",\n          \"Simple SEO friendly breadcrumb (collections & categories)\"\n        ],\n        \"semantic_type\": \"\",\n        \"description\": \"\"\n      }\n    },\n    {\n      \"column\": \"pricing_hint\",\n      \"properties\": {\n        \"dtype\": \"category\",\n        \"num_unique_values\": 1188,\n        \"samples\": [\n          \"$6.99/month. 3-day free trial. Additional charges may apply.\",\n          \"From $8.90/month. 7-day free trial.\",\n          \"$7.95/month. 5-day free trial.\"\n        ],\n        \"semantic_type\": \"\",\n        \"description\": \"\"\n      }\n    },\n    {\n      \"column\": \"lastmod\",\n      \"properties\": {\n        \"dtype\": \"object\",\n        \"num_unique_values\": 27,\n        \"samples\": [\n          \"2022-06-02\",\n          \"2022-05-27\",\n          \"2022-05-30\"\n        ],\n        \"semantic_type\": \"\",\n        \"description\": \"\"\n      }\n    }\n  ]\n}"
            }
          },
          "metadata": {},
          "execution_count": 6
        }
      ]
    },
    {
      "cell_type": "code",
      "source": [
        "# Mengetahui informasi dataset\n",
        "df_apps.info()"
      ],
      "metadata": {
        "colab": {
          "base_uri": "https://localhost:8080/"
        },
        "id": "gaopZetTdLDf",
        "outputId": "53200633-4ec6-4cdf-b2b3-b8474a2ae0a2"
      },
      "execution_count": 7,
      "outputs": [
        {
          "output_type": "stream",
          "name": "stdout",
          "text": [
            "<class 'pandas.core.frame.DataFrame'>\n",
            "RangeIndex: 7341 entries, 0 to 7340\n",
            "Data columns (total 13 columns):\n",
            " #   Column           Non-Null Count  Dtype  \n",
            "---  ------           --------------  -----  \n",
            " 0   id               7341 non-null   object \n",
            " 1   url              7341 non-null   object \n",
            " 2   title            7341 non-null   object \n",
            " 3   developer        7341 non-null   object \n",
            " 4   developer_link   7341 non-null   object \n",
            " 5   icon             7341 non-null   object \n",
            " 6   rating           7341 non-null   float64\n",
            " 7   reviews_count    7341 non-null   int64  \n",
            " 8   description_raw  7341 non-null   object \n",
            " 9   description      7341 non-null   object \n",
            " 10  tagline          7341 non-null   object \n",
            " 11  pricing_hint     7341 non-null   object \n",
            " 12  lastmod          7341 non-null   object \n",
            "dtypes: float64(1), int64(1), object(11)\n",
            "memory usage: 745.7+ KB\n"
          ]
        }
      ]
    },
    {
      "cell_type": "code",
      "source": [
        "# Melihat statistik deskriptif\n",
        "df_apps.describe()"
      ],
      "metadata": {
        "colab": {
          "base_uri": "https://localhost:8080/",
          "height": 300
        },
        "id": "1l2LpesBdNjc",
        "outputId": "f3f4c960-ea85-4bea-fa67-c079d0c5287a"
      },
      "execution_count": 8,
      "outputs": [
        {
          "output_type": "execute_result",
          "data": {
            "text/plain": [
              "            rating  reviews_count\n",
              "count  7341.000000    7341.000000\n",
              "mean      3.035581      87.280616\n",
              "std       2.188610     521.280600\n",
              "min       0.000000       0.000000\n",
              "25%       0.000000       0.000000\n",
              "50%       4.400000       3.000000\n",
              "75%       5.000000      24.000000\n",
              "max       5.000000   24780.000000"
            ],
            "text/html": [
              "\n",
              "  <div id=\"df-9795d98e-4f39-4ea1-9cfc-e64727ee006e\" class=\"colab-df-container\">\n",
              "    <div>\n",
              "<style scoped>\n",
              "    .dataframe tbody tr th:only-of-type {\n",
              "        vertical-align: middle;\n",
              "    }\n",
              "\n",
              "    .dataframe tbody tr th {\n",
              "        vertical-align: top;\n",
              "    }\n",
              "\n",
              "    .dataframe thead th {\n",
              "        text-align: right;\n",
              "    }\n",
              "</style>\n",
              "<table border=\"1\" class=\"dataframe\">\n",
              "  <thead>\n",
              "    <tr style=\"text-align: right;\">\n",
              "      <th></th>\n",
              "      <th>rating</th>\n",
              "      <th>reviews_count</th>\n",
              "    </tr>\n",
              "  </thead>\n",
              "  <tbody>\n",
              "    <tr>\n",
              "      <th>count</th>\n",
              "      <td>7341.000000</td>\n",
              "      <td>7341.000000</td>\n",
              "    </tr>\n",
              "    <tr>\n",
              "      <th>mean</th>\n",
              "      <td>3.035581</td>\n",
              "      <td>87.280616</td>\n",
              "    </tr>\n",
              "    <tr>\n",
              "      <th>std</th>\n",
              "      <td>2.188610</td>\n",
              "      <td>521.280600</td>\n",
              "    </tr>\n",
              "    <tr>\n",
              "      <th>min</th>\n",
              "      <td>0.000000</td>\n",
              "      <td>0.000000</td>\n",
              "    </tr>\n",
              "    <tr>\n",
              "      <th>25%</th>\n",
              "      <td>0.000000</td>\n",
              "      <td>0.000000</td>\n",
              "    </tr>\n",
              "    <tr>\n",
              "      <th>50%</th>\n",
              "      <td>4.400000</td>\n",
              "      <td>3.000000</td>\n",
              "    </tr>\n",
              "    <tr>\n",
              "      <th>75%</th>\n",
              "      <td>5.000000</td>\n",
              "      <td>24.000000</td>\n",
              "    </tr>\n",
              "    <tr>\n",
              "      <th>max</th>\n",
              "      <td>5.000000</td>\n",
              "      <td>24780.000000</td>\n",
              "    </tr>\n",
              "  </tbody>\n",
              "</table>\n",
              "</div>\n",
              "    <div class=\"colab-df-buttons\">\n",
              "\n",
              "  <div class=\"colab-df-container\">\n",
              "    <button class=\"colab-df-convert\" onclick=\"convertToInteractive('df-9795d98e-4f39-4ea1-9cfc-e64727ee006e')\"\n",
              "            title=\"Convert this dataframe to an interactive table.\"\n",
              "            style=\"display:none;\">\n",
              "\n",
              "  <svg xmlns=\"http://www.w3.org/2000/svg\" height=\"24px\" viewBox=\"0 -960 960 960\">\n",
              "    <path d=\"M120-120v-720h720v720H120Zm60-500h600v-160H180v160Zm220 220h160v-160H400v160Zm0 220h160v-160H400v160ZM180-400h160v-160H180v160Zm440 0h160v-160H620v160ZM180-180h160v-160H180v160Zm440 0h160v-160H620v160Z\"/>\n",
              "  </svg>\n",
              "    </button>\n",
              "\n",
              "  <style>\n",
              "    .colab-df-container {\n",
              "      display:flex;\n",
              "      gap: 12px;\n",
              "    }\n",
              "\n",
              "    .colab-df-convert {\n",
              "      background-color: #E8F0FE;\n",
              "      border: none;\n",
              "      border-radius: 50%;\n",
              "      cursor: pointer;\n",
              "      display: none;\n",
              "      fill: #1967D2;\n",
              "      height: 32px;\n",
              "      padding: 0 0 0 0;\n",
              "      width: 32px;\n",
              "    }\n",
              "\n",
              "    .colab-df-convert:hover {\n",
              "      background-color: #E2EBFA;\n",
              "      box-shadow: 0px 1px 2px rgba(60, 64, 67, 0.3), 0px 1px 3px 1px rgba(60, 64, 67, 0.15);\n",
              "      fill: #174EA6;\n",
              "    }\n",
              "\n",
              "    .colab-df-buttons div {\n",
              "      margin-bottom: 4px;\n",
              "    }\n",
              "\n",
              "    [theme=dark] .colab-df-convert {\n",
              "      background-color: #3B4455;\n",
              "      fill: #D2E3FC;\n",
              "    }\n",
              "\n",
              "    [theme=dark] .colab-df-convert:hover {\n",
              "      background-color: #434B5C;\n",
              "      box-shadow: 0px 1px 3px 1px rgba(0, 0, 0, 0.15);\n",
              "      filter: drop-shadow(0px 1px 2px rgba(0, 0, 0, 0.3));\n",
              "      fill: #FFFFFF;\n",
              "    }\n",
              "  </style>\n",
              "\n",
              "    <script>\n",
              "      const buttonEl =\n",
              "        document.querySelector('#df-9795d98e-4f39-4ea1-9cfc-e64727ee006e button.colab-df-convert');\n",
              "      buttonEl.style.display =\n",
              "        google.colab.kernel.accessAllowed ? 'block' : 'none';\n",
              "\n",
              "      async function convertToInteractive(key) {\n",
              "        const element = document.querySelector('#df-9795d98e-4f39-4ea1-9cfc-e64727ee006e');\n",
              "        const dataTable =\n",
              "          await google.colab.kernel.invokeFunction('convertToInteractive',\n",
              "                                                    [key], {});\n",
              "        if (!dataTable) return;\n",
              "\n",
              "        const docLinkHtml = 'Like what you see? Visit the ' +\n",
              "          '<a target=\"_blank\" href=https://colab.research.google.com/notebooks/data_table.ipynb>data table notebook</a>'\n",
              "          + ' to learn more about interactive tables.';\n",
              "        element.innerHTML = '';\n",
              "        dataTable['output_type'] = 'display_data';\n",
              "        await google.colab.output.renderOutput(dataTable, element);\n",
              "        const docLink = document.createElement('div');\n",
              "        docLink.innerHTML = docLinkHtml;\n",
              "        element.appendChild(docLink);\n",
              "      }\n",
              "    </script>\n",
              "  </div>\n",
              "\n",
              "\n",
              "<div id=\"df-7e1cec4b-8330-48ab-a38c-92c70bf2e482\">\n",
              "  <button class=\"colab-df-quickchart\" onclick=\"quickchart('df-7e1cec4b-8330-48ab-a38c-92c70bf2e482')\"\n",
              "            title=\"Suggest charts\"\n",
              "            style=\"display:none;\">\n",
              "\n",
              "<svg xmlns=\"http://www.w3.org/2000/svg\" height=\"24px\"viewBox=\"0 0 24 24\"\n",
              "     width=\"24px\">\n",
              "    <g>\n",
              "        <path d=\"M19 3H5c-1.1 0-2 .9-2 2v14c0 1.1.9 2 2 2h14c1.1 0 2-.9 2-2V5c0-1.1-.9-2-2-2zM9 17H7v-7h2v7zm4 0h-2V7h2v10zm4 0h-2v-4h2v4z\"/>\n",
              "    </g>\n",
              "</svg>\n",
              "  </button>\n",
              "\n",
              "<style>\n",
              "  .colab-df-quickchart {\n",
              "      --bg-color: #E8F0FE;\n",
              "      --fill-color: #1967D2;\n",
              "      --hover-bg-color: #E2EBFA;\n",
              "      --hover-fill-color: #174EA6;\n",
              "      --disabled-fill-color: #AAA;\n",
              "      --disabled-bg-color: #DDD;\n",
              "  }\n",
              "\n",
              "  [theme=dark] .colab-df-quickchart {\n",
              "      --bg-color: #3B4455;\n",
              "      --fill-color: #D2E3FC;\n",
              "      --hover-bg-color: #434B5C;\n",
              "      --hover-fill-color: #FFFFFF;\n",
              "      --disabled-bg-color: #3B4455;\n",
              "      --disabled-fill-color: #666;\n",
              "  }\n",
              "\n",
              "  .colab-df-quickchart {\n",
              "    background-color: var(--bg-color);\n",
              "    border: none;\n",
              "    border-radius: 50%;\n",
              "    cursor: pointer;\n",
              "    display: none;\n",
              "    fill: var(--fill-color);\n",
              "    height: 32px;\n",
              "    padding: 0;\n",
              "    width: 32px;\n",
              "  }\n",
              "\n",
              "  .colab-df-quickchart:hover {\n",
              "    background-color: var(--hover-bg-color);\n",
              "    box-shadow: 0 1px 2px rgba(60, 64, 67, 0.3), 0 1px 3px 1px rgba(60, 64, 67, 0.15);\n",
              "    fill: var(--button-hover-fill-color);\n",
              "  }\n",
              "\n",
              "  .colab-df-quickchart-complete:disabled,\n",
              "  .colab-df-quickchart-complete:disabled:hover {\n",
              "    background-color: var(--disabled-bg-color);\n",
              "    fill: var(--disabled-fill-color);\n",
              "    box-shadow: none;\n",
              "  }\n",
              "\n",
              "  .colab-df-spinner {\n",
              "    border: 2px solid var(--fill-color);\n",
              "    border-color: transparent;\n",
              "    border-bottom-color: var(--fill-color);\n",
              "    animation:\n",
              "      spin 1s steps(1) infinite;\n",
              "  }\n",
              "\n",
              "  @keyframes spin {\n",
              "    0% {\n",
              "      border-color: transparent;\n",
              "      border-bottom-color: var(--fill-color);\n",
              "      border-left-color: var(--fill-color);\n",
              "    }\n",
              "    20% {\n",
              "      border-color: transparent;\n",
              "      border-left-color: var(--fill-color);\n",
              "      border-top-color: var(--fill-color);\n",
              "    }\n",
              "    30% {\n",
              "      border-color: transparent;\n",
              "      border-left-color: var(--fill-color);\n",
              "      border-top-color: var(--fill-color);\n",
              "      border-right-color: var(--fill-color);\n",
              "    }\n",
              "    40% {\n",
              "      border-color: transparent;\n",
              "      border-right-color: var(--fill-color);\n",
              "      border-top-color: var(--fill-color);\n",
              "    }\n",
              "    60% {\n",
              "      border-color: transparent;\n",
              "      border-right-color: var(--fill-color);\n",
              "    }\n",
              "    80% {\n",
              "      border-color: transparent;\n",
              "      border-right-color: var(--fill-color);\n",
              "      border-bottom-color: var(--fill-color);\n",
              "    }\n",
              "    90% {\n",
              "      border-color: transparent;\n",
              "      border-bottom-color: var(--fill-color);\n",
              "    }\n",
              "  }\n",
              "</style>\n",
              "\n",
              "  <script>\n",
              "    async function quickchart(key) {\n",
              "      const quickchartButtonEl =\n",
              "        document.querySelector('#' + key + ' button');\n",
              "      quickchartButtonEl.disabled = true;  // To prevent multiple clicks.\n",
              "      quickchartButtonEl.classList.add('colab-df-spinner');\n",
              "      try {\n",
              "        const charts = await google.colab.kernel.invokeFunction(\n",
              "            'suggestCharts', [key], {});\n",
              "      } catch (error) {\n",
              "        console.error('Error during call to suggestCharts:', error);\n",
              "      }\n",
              "      quickchartButtonEl.classList.remove('colab-df-spinner');\n",
              "      quickchartButtonEl.classList.add('colab-df-quickchart-complete');\n",
              "    }\n",
              "    (() => {\n",
              "      let quickchartButtonEl =\n",
              "        document.querySelector('#df-7e1cec4b-8330-48ab-a38c-92c70bf2e482 button');\n",
              "      quickchartButtonEl.style.display =\n",
              "        google.colab.kernel.accessAllowed ? 'block' : 'none';\n",
              "    })();\n",
              "  </script>\n",
              "</div>\n",
              "\n",
              "    </div>\n",
              "  </div>\n"
            ],
            "application/vnd.google.colaboratory.intrinsic+json": {
              "type": "dataframe",
              "summary": "{\n  \"name\": \"df_apps\",\n  \"rows\": 8,\n  \"fields\": [\n    {\n      \"column\": \"rating\",\n      \"properties\": {\n        \"dtype\": \"number\",\n        \"std\": 2594.445049537441,\n        \"min\": 0.0,\n        \"max\": 7341.0,\n        \"num_unique_values\": 6,\n        \"samples\": [\n          7341.0,\n          3.035580983517232,\n          5.0\n        ],\n        \"semantic_type\": \"\",\n        \"description\": \"\"\n      }\n    },\n    {\n      \"column\": \"reviews_count\",\n      \"properties\": {\n        \"dtype\": \"number\",\n        \"std\": 8734.942795937108,\n        \"min\": 0.0,\n        \"max\": 24780.0,\n        \"num_unique_values\": 7,\n        \"samples\": [\n          7341.0,\n          87.28061571992916,\n          24.0\n        ],\n        \"semantic_type\": \"\",\n        \"description\": \"\"\n      }\n    }\n  ]\n}"
            }
          },
          "metadata": {},
          "execution_count": 8
        }
      ]
    },
    {
      "cell_type": "code",
      "source": [
        "# Menampilkan jumlah baris dan kolom dalam dataset\n",
        "jumlah_baris, jumlah_kolom = df_apps.shape\n",
        "print(\"Jumlah data (baris):\", jumlah_baris)\n",
        "print(\"Jumlah fitur (kolom):\", jumlah_kolom)\n"
      ],
      "metadata": {
        "colab": {
          "base_uri": "https://localhost:8080/"
        },
        "id": "yBBFW1iCG3ES",
        "outputId": "551430e7-f8ab-4106-946a-fbdd3909f197"
      },
      "execution_count": 9,
      "outputs": [
        {
          "output_type": "stream",
          "name": "stdout",
          "text": [
            "Jumlah data (baris): 7341\n",
            "Jumlah fitur (kolom): 13\n"
          ]
        }
      ]
    },
    {
      "cell_type": "code",
      "source": [
        "#Mengecheck data duplikat\n",
        "data_duplicate = df_apps.duplicated().sum()\n",
        "if data_duplicate > 0:\n",
        "  print(f\"Jumlah data duplikat {data_duplicate}\")\n",
        "else:\n",
        "  print(\"Tidak ada data duplikat\")"
      ],
      "metadata": {
        "colab": {
          "base_uri": "https://localhost:8080/"
        },
        "id": "mTNRNwTybe8v",
        "outputId": "b6126388-a5bd-4c4d-d0e5-86dd11dfcb70"
      },
      "execution_count": 10,
      "outputs": [
        {
          "output_type": "stream",
          "name": "stdout",
          "text": [
            "Tidak ada data duplikat\n"
          ]
        }
      ]
    },
    {
      "cell_type": "code",
      "source": [
        "missing_values = df_apps.isnull().sum()\n",
        "total_missing = missing_values.sum()\n",
        "\n",
        "if total_missing > 0:\n",
        "  print(f\"Jumlah data yang hilang: {total_missing}\")\n",
        "else:\n",
        "  print(\"Tidak ada missing value\")"
      ],
      "metadata": {
        "colab": {
          "base_uri": "https://localhost:8080/"
        },
        "id": "SxUs0-hocifQ",
        "outputId": "7c8de91d-fc75-4af9-ee23-e290bd63252e"
      },
      "execution_count": 11,
      "outputs": [
        {
          "output_type": "stream",
          "name": "stdout",
          "text": [
            "Tidak ada missing value\n"
          ]
        }
      ]
    },
    {
      "cell_type": "markdown",
      "source": [
        "**Univariate Exploratory Data Analysis**"
      ],
      "metadata": {
        "id": "_4XAacNPndZK"
      }
    },
    {
      "cell_type": "markdown",
      "source": [
        "Analisis ini bertujuan untuk memahami distribusi variabel tertentu seperti rating dan reviews_count. Anda dapat menggunakan sns.histplot() untuk melihat pola distribusi data."
      ],
      "metadata": {
        "id": "Yig1PN6d1ArQ"
      }
    },
    {
      "cell_type": "markdown",
      "source": [
        "Distribusi Berdasarkan Rating: Menunjukkan sebaran rating aplikasi yang diulas, memberi gambaran tentang kualitas rata-rata aplikasi di platform Shopify."
      ],
      "metadata": {
        "id": "os1j6L4vIFtV"
      }
    },
    {
      "cell_type": "code",
      "source": [
        "import matplotlib.pyplot as plt\n",
        "import seaborn as sns\n",
        "\n",
        "# Visualisasi distribusi rating\n",
        "plt.figure(figsize=(10, 5))\n",
        "sns.histplot(df_apps['rating'], bins=20, kde=True)\n",
        "plt.title('Distribusi Rating Aplikasi')\n",
        "plt.xlabel('Rating')\n",
        "plt.ylabel('Frekuensi')\n",
        "plt.savefig('distribusi_rating.png')\n",
        "plt.show()\n"
      ],
      "metadata": {
        "id": "crCgBEtCiifa",
        "colab": {
          "base_uri": "https://localhost:8080/",
          "height": 487
        },
        "outputId": "24955f6f-ac9f-4802-dea0-d5b841051e98"
      },
      "execution_count": 12,
      "outputs": [
        {
          "output_type": "display_data",
          "data": {
            "text/plain": [
              "<Figure size 1000x500 with 1 Axes>"
            ],
            "image/png": "[encoded data removed]"
          },
          "metadata": {}
        }
      ]
    },
    {
      "cell_type": "markdown",
      "source": [
        "Distribusi Berdasarkan Jumlah Ulasan: Distribusi ulasan membantu mengidentifikasi aplikasi yang paling populer berdasarkan interaksi pengguna."
      ],
      "metadata": {
        "id": "zkejcz9aIJmn"
      }
    },
    {
      "cell_type": "code",
      "source": [
        "\n",
        "# Visualisasi jumlah ulasan\n",
        "plt.figure(figsize=(10, 5))\n",
        "sns.histplot(df_apps['reviews_count'], bins=20, kde=True)\n",
        "plt.title('Distribusi Jumlah Ulasan Aplikasi')\n",
        "plt.xlabel('Jumlah Ulasan')\n",
        "plt.ylabel('Frekuensi')\n",
        "plt.savefig('distribusi_ulasan.png')\n",
        "plt.show()\n"
      ],
      "metadata": {
        "id": "ICV8bbNfpK_e",
        "colab": {
          "base_uri": "https://localhost:8080/",
          "height": 487
        },
        "outputId": "7068f10b-ad49-4b1b-a6c3-4d22961cea3a"
      },
      "execution_count": 13,
      "outputs": [
        {
          "output_type": "display_data",
          "data": {
            "text/plain": [
              "<Figure size 1000x500 with 1 Axes>"
            ],
            "image/png": "[encoded data removed]"
          },
          "metadata": {}
        }
      ]
    },
    {
      "cell_type": "markdown",
      "source": [
        "**Insight dari EDA**"
      ],
      "metadata": {
        "id": "CJUU90IXE4b_"
      }
    },
    {
      "cell_type": "markdown",
      "source": [
        "\n",
        "Sebagian besar produk memiliki rating di atas 3, menandakan bahwa produk memiliki reputasi yang baik.\n",
        "Produk dengan ulasan terbanyak cenderung populer dan dapat dijadikan bahan rekomendasi.\n"
      ],
      "metadata": {
        "id": "uF1GfiD6Ezhh"
      }
    },
    {
      "cell_type": "markdown",
      "source": [
        "**Data Preparation**"
      ],
      "metadata": {
        "id": "tH9jx_-t3XXD"
      }
    },
    {
      "cell_type": "markdown",
      "source": [
        "Tahapan Data Preprocessing untuk menangani nilai hilang dan menghapus data duplikat. Menangani nilai yang hilang bisa dengan rata-rata atau median."
      ],
      "metadata": {
        "id": "OxhOosWE20O7"
      }
    },
    {
      "cell_type": "code",
      "source": [
        "# Menangani nilai yang hilang\n",
        "df_apps.fillna({'rating': df_apps['rating'].mean()}, inplace=True)# Mengisi nilai hilang pada rating dengan rata-rata\n",
        "\n",
        "# Memeriksa nilai duplikat\n",
        "df_apps.drop_duplicates(subset='title', keep='first', inplace=True)\n"
      ],
      "metadata": {
        "id": "8QXAIGw-pLCw"
      },
      "execution_count": 14,
      "outputs": []
    },
    {
      "cell_type": "markdown",
      "source": [
        "Pada tahap ini, Anda akan menggabungkan kolom teks yang relevan, seperti title, description, dan tagline menjadi satu kolom content untuk representasi yang lebih kaya."
      ],
      "metadata": {
        "id": "2dC66Nen3Xe2"
      }
    },
    {
      "cell_type": "code",
      "source": [
        "from sklearn.feature_extraction.text import TfidfVectorizer\n",
        "\n",
        "# 1. Membuat Kolom Konten\n",
        "df_apps['content'] = df_apps['title'] + \" \" + df_apps['description'] + \" \" + df_apps['tagline']\n",
        "\n",
        "# 2. Text Preprocessing dan Vectorization\n",
        "vector = TfidfVectorizer(stop_words='english', ngram_range=(1, 2), max_df=0.9, min_df=0.2)\n",
        "matrix_vector = vector.fit_transform(df_apps['content'])\n"
      ],
      "metadata": {
        "id": "UC_ncbV1pLF2"
      },
      "execution_count": 15,
      "outputs": []
    },
    {
      "cell_type": "markdown",
      "source": [
        "**Model Development**"
      ],
      "metadata": {
        "id": "Qrllt7SilJpn"
      }
    },
    {
      "cell_type": "markdown",
      "source": [
        "Tahap modeling di sini menggunakan cosine_similarity untuk mengukur kesamaan antar aplikasi berdasarkan teks content. Fungsi rekomendasi mencari aplikasi-aplikasi yang paling mirip dengan input."
      ],
      "metadata": {
        "id": "bikSX99LCgom"
      }
    },
    {
      "cell_type": "code",
      "source": [
        "from sklearn.metrics.pairwise import cosine_similarity\n",
        "import pandas as pd\n",
        "# 3. Menghitung Cosine Similarity\n",
        "cosine_sim = cosine_similarity(matrix_vector, matrix_vector)\n",
        "\n",
        "# 4. Fungsi Rekomendasi\n",
        "def recommend_apps(app_title, cosine_sim=cosine_sim, df_apps=df_apps):\n",
        "    try:\n",
        "        # Mendapatkan index aplikasi berdasarkan judul\n",
        "        app_title = df_apps[df_apps['title'] == app_title].index[0]\n",
        "\n",
        "        # Mendapatkan skor similarity untuk semua aplikasi\n",
        "        sim_scores = list(enumerate(cosine_sim[app_title]))\n",
        "\n",
        "        # Mengurutkan aplikasi berdasarkan skor similarity\n",
        "        sim_scores = sorted(sim_scores, key=lambda x: x[1], reverse=True)\n",
        "\n",
        "        # Mengambil aplikasi dengan similarity tertinggi (kecuali aplikasi itu sendiri)\n",
        "        sim_scores = sim_scores[1:12]  # Ambil 10 teratas\n",
        "\n",
        "        # Mendapatkan judul aplikasi yang mirip\n",
        "        title_similirarity = [i[0] for i in sim_scores]\n",
        "        simililarity_scores = [round(i[1] * 100, 2) for i in sim_scores]\n",
        "\n",
        "        recommended_apps = pd.DataFrame({\n",
        "            'judul': df_apps['title'].iloc[title_similirarity].values,\n",
        "            'Kemiripan (%)': simililarity_scores\n",
        "        })\n",
        "        print(\"Daftar Rekomendasi Produk Berdasarkan Kemiripan\\n\")\n",
        "        print(recommended_apps.to_markdown(index=False))\n",
        "        # Mengembalikan rekomendasi judul aplikasi\n",
        "        return recommended_apps\n",
        "    except IndexError:\n",
        "        return \"Tidak Memiliki Rekomendasi\"\n"
      ],
      "metadata": {
        "id": "I9krNzGepLJT"
      },
      "execution_count": 16,
      "outputs": []
    },
    {
      "cell_type": "markdown",
      "source": [
        "**Model Result**"
      ],
      "metadata": {
        "id": "8iCwZkQ0C0_R"
      }
    },
    {
      "cell_type": "markdown",
      "source": [
        "menampilkan hasil rekomendasi beserta kemiripannya  dengan model yang telah di buat"
      ],
      "metadata": {
        "id": "FABjmCaglIKB"
      }
    },
    {
      "cell_type": "code",
      "source": [
        "#Penggunaan\n",
        "recommend_app = 'JewelExchange Product Feed API'\n",
        "recommendations = recommend_apps(recommend_app)\n"
      ],
      "metadata": {
        "id": "xG3lkVMsrB-j",
        "colab": {
          "base_uri": "https://localhost:8080/"
        },
        "outputId": "519c1dd2-9ae7-47c3-e4f3-bbd223e031d6"
      },
      "execution_count": 17,
      "outputs": [
        {
          "output_type": "stream",
          "name": "stdout",
          "text": [
            "Daftar Rekomendasi Produk Berdasarkan Kemiripan\n",
            "\n",
            "| judul                         |   Kemiripan (%) |\n",
            "|:------------------------------|----------------:|\n",
            "| Search Veil                   |           83.86 |\n",
            "| Affiliate Product Feed        |           82.82 |\n",
            "| Feeds Bridge                  |           78.68 |\n",
            "| Auto Hide Sold‑out Products   |           78.56 |\n",
            "| Nostock‑Noshow                |           78.44 |\n",
            "| IconEcom: Print On Demand     |           77.74 |\n",
            "| Push Down & Hide Out of Stock |           76.49 |\n",
            "| Simple Bulk Price Editor      |           76.37 |\n",
            "| Ablestar Bulk Product Editor  |           75.13 |\n",
            "| Nada: Sort & Hide Sold‑out    |           74.71 |\n",
            "| Blog Linker                   |           73.88 |\n"
          ]
        }
      ]
    },
    {
      "cell_type": "markdown",
      "source": [
        "**Evaluation Model dengan matrix Precision at K, Recall at K**"
      ],
      "metadata": {
        "id": "XYnG8UP73p68"
      }
    },
    {
      "cell_type": "markdown",
      "source": [
        "precision at k: Menghitung berapa banyak rekomendasi yang relevan di antara K rekomendasi teratas, dinyatakan dalam persen.\n",
        "recall at k: Menghitung berapa banyak item relevan yang ter-rekomendasi di antara K rekomendasi teratas terhadap total item relevan, juga dalam bentuk persen."
      ],
      "metadata": {
        "id": "-ZXtHCqt6xpp"
      }
    },
    {
      "cell_type": "code",
      "source": [
        "# Precision at K Function\n",
        "def precision_at_k(recommendations, relate_apps, k=5):\n",
        "    precision_recommend = recommendations['judul'].head(k).tolist()\n",
        "    precision_relevant = len([app for app in precision_recommend if app in relate_apps])\n",
        "    return (precision_relevant / k) * 100\n",
        "\n",
        "def recall_at_k(recommendations, relate_apps, k=10):\n",
        "    recall_recommend = recommendations['judul'].head(k).tolist()\n",
        "    recall_relevant = len([app for app in recall_recommend if app in relate_apps])\n",
        "    return (recall_relevant / len(relate_apps)) * 100\n",
        "\n",
        "\n",
        "# Mendapatkan rekomendasi\n",
        "data_recommend = recommend_apps(recommend_app)\n",
        "\n",
        "# Menentukan relate_apps otomatis berdasarkan ambang batas kemiripan 75%\n",
        "similarity_threshold = 75\n",
        "actual_relate_app = data_recommend[data_recommend['Kemiripan (%)'] >= similarity_threshold]['judul'].tolist()\n",
        "\n",
        "# Menghitung Precision@K dan Recall@K\n",
        "precision_percent = precision_at_k(data_recommend, actual_relate_app, k=5)\n",
        "recall_percent = recall_at_k(data_recommend, actual_relate_app, k=5)\n",
        "\n",
        "print(f\"Precision at 5: {precision_percent:.2f}%\")\n",
        "print(f\"Recall at 5: {recall_percent:.2f}%\")"
      ],
      "metadata": {
        "colab": {
          "base_uri": "https://localhost:8080/"
        },
        "id": "xMucEyNufk7j",
        "outputId": "41748694-985b-4d98-befd-169c37458284"
      },
      "execution_count": 18,
      "outputs": [
        {
          "output_type": "stream",
          "name": "stdout",
          "text": [
            "Daftar Rekomendasi Produk Berdasarkan Kemiripan\n",
            "\n",
            "| judul                         |   Kemiripan (%) |\n",
            "|:------------------------------|----------------:|\n",
            "| Search Veil                   |           83.86 |\n",
            "| Affiliate Product Feed        |           82.82 |\n",
            "| Feeds Bridge                  |           78.68 |\n",
            "| Auto Hide Sold‑out Products   |           78.56 |\n",
            "| Nostock‑Noshow                |           78.44 |\n",
            "| IconEcom: Print On Demand     |           77.74 |\n",
            "| Push Down & Hide Out of Stock |           76.49 |\n",
            "| Simple Bulk Price Editor      |           76.37 |\n",
            "| Ablestar Bulk Product Editor  |           75.13 |\n",
            "| Nada: Sort & Hide Sold‑out    |           74.71 |\n",
            "| Blog Linker                   |           73.88 |\n",
            "Precision at 5: 100.00%\n",
            "Recall at 5: 55.56%\n"
          ]
        }
      ]
    },
    {
      "cell_type": "markdown",
      "source": [
        "**Kesimpuulan**"
      ],
      "metadata": {
        "id": "bFOBpQDZT2k4"
      }
    },
    {
      "cell_type": "markdown",
      "source": [
        "Kesimpulan dari proyek sistem rekomendasi aplikasi Shopify ini menunjukkan bahwa pendekatan berbasis konten dapat secara efektif mengidentifikasi aplikasi yang memiliki kesamaan fitur atau fungsi yang tinggi, sesuai dengan kebutuhan pengguna. Dengan menghitung kemiripan menggunakan Cosine Similarity, sistem ini mampu memberikan daftar rekomendasi aplikasi dengan tingkat kemiripan tertentu, membantu pengguna menemukan aplikasi yang relevan tanpa harus mencari secara manual. Evaluasi yang dilakukan melalui metrik precision dan recall menunjukkan seberapa baik model ini dalam merekomendasikan aplikasi yang benar-benar relevan, meskipun tantangan seperti ketersediaan data perilaku pengguna tetap menjadi keterbatasan."
      ],
      "metadata": {
        "id": "rsAum1hFT2w1"
      }
    }
  ]
}